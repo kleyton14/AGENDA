{
 "cells": [
  {
   "cell_type": "code",
   "execution_count": null,
   "id": "2c768380",
   "metadata": {},
   "outputs": [],
   "source": [
    "lista = []"
   ]
  },
  {
   "cell_type": "code",
   "execution_count": null,
   "id": "bbe9ba3d",
   "metadata": {},
   "outputs": [],
   "source": [
    "class Agenda:\n",
    "    def _init_(self):\n",
    "        global lista\n",
    "        \n",
    "    def Cadastra(self,n):\n",
    "                #Adiciona contato\n",
    "                lista.append(n)\n",
    "\n",
    "        \n",
    "        \n",
    "    def Deletar(self,n):\n",
    "        #Deleta contato pelo nome\n",
    "        for item in lista:\n",
    "            if item[5:item.index(\" \")] == n:\n",
    "                lista.remove(item)\n",
    "                print('Contato editado com sucesso')\n",
    "    \n",
    "    def Buscar(self,n):\n",
    "        #Busca o contato pelo nome\n",
    "        for item in lista:\n",
    "            if item[5:item.index(\" \")] == n:\n",
    "                print(lista[lista.index(item)])\n",
    "                \n",
    "    def Listar_numero(self):\n",
    "        #Lista e enumera contato\n",
    "        for a,b in enumerate(lista):\n",
    "            a = str(a)\n",
    "            b = str(b)\n",
    "            print(a+\" - \"+b)\n",
    "    \n",
    "    def editar_numero(self,a,b):\n",
    "        #Edita contato\n",
    "        for item in lista:\n",
    "            if item[5:item.index(\" \")] == a:\n",
    "                if b[4] == \":\":\n",
    "                    if b[b.index(\" \")] == \" \":\n",
    "                        lista[lista.index(item)] = b\n",
    "                        print(\"Contato editado com sucesso!\")\n",
    "    def printa_pra_editar(self,a):\n",
    "        # Printa contato na hora que vai deletar\n",
    "        for item in lista:\n",
    "            if item[5:item.index(\" \")] == a:\n",
    "                print(\"Contato que vai editar: \"+item)"
   ]
  },
  {
   "cell_type": "code",
   "execution_count": null,
   "id": "5a6f21b5",
   "metadata": {},
   "outputs": [],
   "source": [
    "def agenda():\n",
    "    \n",
    "    AGENDA = Agenda()\n",
    "    try:\n",
    "        #Tratamento de erros na função!\n",
    "        while True:\n",
    "            #Loop no input daa opções...\n",
    "            Opção = str(input('Escolha as opção: \\n \"ADICIONAR\" ou \"DELETAR\" ou \"BUSCAR\" ou \\n \"EDITAR CONTATO\" \"VER CONTATOS\" ou \"SAIR\" ')).lower()\n",
    "            Opção = Opção.replace(\" \",\"\")\n",
    "\n",
    "            if Opção == \"adicionar\":\n",
    "                nome = str(input(f'Adicione nome do contato:')).lower()\n",
    "                numero = str(input(f'Adicione numero do contato:')).lower()\n",
    "                completo = \"nome:\"+nome+' '+'numero:'+numero\n",
    "                print('Adicionado com sucesso!')\n",
    "                AGENDA.Cadastra(completo)\n",
    "\n",
    "            elif Opção == \"deletar\":\n",
    "                deletar = str(input(f'Delete pelo nome do contato! \\nExemplo:\"RAUL\"')).lower()\n",
    "               \n",
    "                AGENDA.Deletar(deletar)\n",
    "\n",
    "            elif Opção == \"buscar\":\n",
    "                buscar = str(input(f'Busque pelo nome! \\nExemplo:\"RAUL\"')).lower()\n",
    "                buscar = buscar.replace(\" \",\"\") \n",
    "                AGENDA.Buscar(buscar)\n",
    "                \n",
    "            elif Opção == \"vercontatos\":\n",
    "                AGENDA.Listar_numero()\n",
    "            \n",
    "            elif Opção == \"editarcontato\":\n",
    "                a = str(input(\"Busque pelo nome do contato que quer editar! :\")).lower()\n",
    "                AGENDA.printa_pra_editar(a)\n",
    "                d = str(input('Edite o nome do contato:')).lower()\n",
    "                f = str(input('Edite o numero do contato:')).lower()\n",
    "                b='nome:'+d+' numero:'+f\n",
    "                \n",
    "                AGENDA.editar_numero(a,b)\n",
    "            \n",
    "            elif Opção == \"sair\":\n",
    "                break\n",
    "            else:\n",
    "                print(\"Escreveu errado!\")\n",
    "                continue\n",
    "    except:\n",
    "        print(\"Escreveu errado!\")\n",
    "        agenda()"
   ]
  },
  {
   "cell_type": "code",
   "execution_count": null,
   "id": "b7c750ea",
   "metadata": {},
   "outputs": [],
   "source": [
    "agenda()\n"
   ]
  },
  {
   "cell_type": "code",
   "execution_count": null,
   "id": "336fa63f",
   "metadata": {},
   "outputs": [],
   "source": []
  },
  {
   "cell_type": "code",
   "execution_count": null,
   "id": "0d7c5412",
   "metadata": {},
   "outputs": [],
   "source": []
  }
 ],
 "metadata": {
  "kernelspec": {
   "display_name": "Python 3 (ipykernel)",
   "language": "python",
   "name": "python3"
  },
  "language_info": {
   "codemirror_mode": {
    "name": "ipython",
    "version": 3
   },
   "file_extension": ".py",
   "mimetype": "text/x-python",
   "name": "python",
   "nbconvert_exporter": "python",
   "pygments_lexer": "ipython3",
   "version": "3.9.7"
  }
 },
 "nbformat": 4,
 "nbformat_minor": 5
}
